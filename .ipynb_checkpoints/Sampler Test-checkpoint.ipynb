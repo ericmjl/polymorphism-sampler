{
 "cells": [
  {
   "cell_type": "code",
   "execution_count": 1,
   "metadata": {
    "collapsed": true
   },
   "outputs": [],
   "source": [
    "from Bio import SeqIO\n",
    "from Bio.AlignIO import MultipleSeqAlignment\n",
    "from random import choice\n",
    "from collections import Counter\n",
    "from time import time"
   ]
  },
  {
   "cell_type": "code",
   "execution_count": 2,
   "metadata": {
    "collapsed": false
   },
   "outputs": [],
   "source": [
    "sequences = [s for s in SeqIO.parse('20150910_PB2s_2010-2015.fasta', 'fasta')]\n",
    "\n",
    "def mc_length_sequences(sequences):\n",
    "    \"\"\"\n",
    "    Filters a list of SeqRecords such that:\n",
    "    - What's left is of the most common length only.\n",
    "    \"\"\"\n",
    "    # Custom only for this notebook.\n",
    "    # Pick out sequences that are of the most common length.\n",
    "    counts = Counter([len(s) for s in sequences])\n",
    "    mc_length = counts.most_common(1)[0][0]\n",
    "    \n",
    "    filtered_sequences = list()\n",
    "    for s in sequences:\n",
    "        if len(s.seq) == mc_length:\n",
    "            filtered_sequences.append(s)\n",
    "    return filtered_sequences\n",
    "\n",
    "sequences = mc_length_sequences(sequences)"
   ]
  },
  {
   "cell_type": "code",
   "execution_count": 3,
   "metadata": {
    "collapsed": false
   },
   "outputs": [
    {
     "data": {
      "text/plain": [
       "4021"
      ]
     },
     "execution_count": 3,
     "metadata": {},
     "output_type": "execute_result"
    }
   ],
   "source": [
    "len(sequences)"
   ]
  },
  {
   "cell_type": "code",
   "execution_count": 4,
   "metadata": {
    "collapsed": false
   },
   "outputs": [
    {
     "name": "stdout",
     "output_type": "stream",
     "text": [
      "Time: 5.100972890853882 seconds.\n"
     ]
    }
   ],
   "source": [
    "start = time()\n",
    "polymorphisms = dict()\n",
    "alignment = MultipleSeqAlignment(sequences)\n",
    "for col in range(alignment.get_alignment_length()):\n",
    "    polmorphs = set(alignment[:,col])\n",
    "    if len(polmorphs) > 1:\n",
    "        polymorphisms[col] = polmorphs\n",
    "end = time()\n",
    "print('Time: {0} seconds.'.format(end - start))"
   ]
  },
  {
   "cell_type": "code",
   "execution_count": 5,
   "metadata": {
    "collapsed": false
   },
   "outputs": [
    {
     "data": {
      "text/plain": [
       "754"
      ]
     },
     "execution_count": 5,
     "metadata": {},
     "output_type": "execute_result"
    }
   ],
   "source": [
    "total_positions = len(polymorphisms)\n",
    "total_positions"
   ]
  },
  {
   "cell_type": "code",
   "execution_count": 6,
   "metadata": {
    "collapsed": false
   },
   "outputs": [
    {
     "data": {
      "text/plain": [
       "3365"
      ]
     },
     "execution_count": 6,
     "metadata": {},
     "output_type": "execute_result"
    }
   ],
   "source": [
    "def number_of_polymorphisms(polymorphisms):\n",
    "    total_polymorphisms = 0\n",
    "    for pos, polymorphs in polymorphisms.items():\n",
    "        total_polymorphisms += len(polymorphs)\n",
    "\n",
    "    return total_polymorphisms\n",
    "\n",
    "total_polymorphisms = number_of_polymorphisms(polymorphisms)\n",
    "total_polymorphisms"
   ]
  },
  {
   "cell_type": "code",
   "execution_count": 7,
   "metadata": {
    "collapsed": false
   },
   "outputs": [
    {
     "name": "stdout",
     "output_type": "stream",
     "text": [
      "Time: 6.088326930999756 seconds\n"
     ]
    }
   ],
   "source": [
    "# Implement algorithm for sampling.\n",
    "\n",
    "subsampled = set()\n",
    "start = time()\n",
    "\n",
    "num_positions = []\n",
    "num_polymorphisms = []\n",
    "\n",
    "while len(polymorphisms.keys()) > 0:\n",
    "    try:        \n",
    "        # Step 1: Randomly choose a position with a polymorphism\n",
    "        pos = choice(list(polymorphisms.keys()))\n",
    "\n",
    "        # Step 2: Randomly choose one polymorphism.\n",
    "        letter = choice(list(polymorphisms[pos]))\n",
    "\n",
    "        # Step 3: Filter sequences such that we are left with sequences that have that letter at that position.\n",
    "        filtered = MultipleSeqAlignment([s for s in alignment if s[pos] == letter])\n",
    "\n",
    "        # Step 4: Randomly choose one of those sequences.\n",
    "        seqrecord = choice(filtered)\n",
    "\n",
    "        # Step 5: Add the chosen sequence to a subsampled set\n",
    "        subsampled.add(seqrecord)\n",
    "\n",
    "        # Step 6: Iterate over each of the positions in the polymorphisms, and if the sequence has a polymorphism, remove it\n",
    "        # from consideration in the polymorphisms list.\n",
    "        for pos in polymorphisms.keys():\n",
    "            if seqrecord.seq[pos] in polymorphisms[pos]:\n",
    "                polymorphisms[pos].remove(seqrecord.seq[pos])\n",
    "                # print(pos, seqrecord.seq[pos])\n",
    "\n",
    "        # Step 7: Refresh the dictionary such that no positions are left that have 0 polymorphisms to consider.\n",
    "        polymorphisms = {k:v for k, v in polymorphisms.items() if len(v) > 0}\n",
    "        \n",
    "        num_positions.append(len(polymorphisms.keys()))\n",
    "        num_polymorphisms.append(number_of_polymorphisms(polymorphisms))\n",
    "\n",
    "    # Break if there's no more polymorphisms to choose from.\n",
    "    except IndexError:\n",
    "        break\n",
    "    \n",
    "end = time()\n",
    "\n",
    "print('Time: {0} seconds'.format(end - start))"
   ]
  },
  {
   "cell_type": "code",
   "execution_count": 8,
   "metadata": {
    "collapsed": false
   },
   "outputs": [
    {
     "data": {
      "text/plain": [
       "(0, 973)"
      ]
     },
     "execution_count": 8,
     "metadata": {},
     "output_type": "execute_result"
    }
   ],
   "source": [
    "len(polymorphisms.keys()), len(subsampled)"
   ]
  },
  {
   "cell_type": "code",
   "execution_count": 9,
   "metadata": {
    "collapsed": false
   },
   "outputs": [
    {
     "data": {
      "image/png": "[encoded data removed]",
      "text/plain": [
       "<matplotlib.figure.Figure at 0x105e76e80>"
      ]
     },
     "metadata": {},
     "output_type": "display_data"
    }
   ],
   "source": [
    "import matplotlib.pyplot as plt\n",
    "%matplotlib inline\n",
    "plt.figure(figsize=(3.5,2))\n",
    "plt.plot(num_positions, color='red', label='Positions')\n",
    "plt.plot(num_polymorphisms, color='blue', label='Polymorphisms')\n",
    "plt.legend(fontsize=8)\n",
    "plt.xlabel('Num. Sampled Sequences', fontsize=10)\n",
    "plt.ylabel('Num. Unsampled', fontsize=10)\n",
    "plt.savefig('Polymorphisms Unsampled.pdf', bbox_inches='tight')"
   ]
  },
  {
   "cell_type": "code",
   "execution_count": 10,
   "metadata": {
    "collapsed": false
   },
   "outputs": [
    {
     "data": {
      "text/plain": [
       "<matplotlib.legend.Legend at 0x10dc19710>"
      ]
     },
     "execution_count": 10,
     "metadata": {},
     "output_type": "execute_result"
    },
    {
     "data": {
      "image/png": "[encoded data removed]",
      "text/plain": [
       "<matplotlib.figure.Figure at 0x10fc4d748>"
      ]
     },
     "metadata": {},
     "output_type": "display_data"
    }
   ],
   "source": [
    "# Plot rarefaction curve\n",
    "import numpy as np\n",
    "num_polymorphs_arr = np.array(num_polymorphisms)\n",
    "polymorph_coverage = total_polymorphisms - num_polymorphs_arr\n",
    "\n",
    "num_positions_arr = np.array(num_positions)\n",
    "position_coverage = total_positions - num_positions_arr\n",
    "\n",
    "fig = plt.figure(figsize=(3.5,2))\n",
    "plt.plot(polymorph_coverage, color='blue', label='Polymorphisms')\n",
    "plt.plot(position_coverage, color='red', label='Positions')\n",
    "plt.xlabel('Number of Sampled Sequences', fontsize=10)\n",
    "plt.ylabel('Counts', fontsize=10)\n",
    "plt.legend(fontsize=8, loc='right')"
   ]
  },
  {
   "cell_type": "code",
   "execution_count": 11,
   "metadata": {
    "collapsed": false
   },
   "outputs": [
    {
     "data": {
      "text/plain": [
       "0"
      ]
     },
     "execution_count": 11,
     "metadata": {},
     "output_type": "execute_result"
    }
   ],
   "source": [
    "# How to evaluate the polymorphism coverage?\n",
    "# We will use the metric \"number of polymorphisms captured\".\n",
    "\n",
    "leftover_polymorphisms = 0\n",
    "for pos, polymorphs in polymorphisms.items():\n",
    "    leftover_polymorphisms += len(polymorphs)\n",
    "leftover_polymorphisms"
   ]
  },
  {
   "cell_type": "code",
   "execution_count": 12,
   "metadata": {
    "collapsed": false
   },
   "outputs": [
    {
     "data": {
      "text/plain": [
       "1.0"
      ]
     },
     "execution_count": 12,
     "metadata": {},
     "output_type": "execute_result"
    }
   ],
   "source": [
    "# Polymorphism coverage is as such:\n",
    "1 - (leftover_polymorphisms / total_polymorphisms)"
   ]
  },
  {
   "cell_type": "markdown",
   "metadata": {},
   "source": [
    "# Sampler Class Definition\n",
    "\n",
    "Input: FASTA file of all sequences.\n",
    "Output: FASTA file of a subset of sequences. Prints to screen the total polymorphism coverage. "
   ]
  },
  {
   "cell_type": "code",
   "execution_count": null,
   "metadata": {
    "collapsed": true
   },
   "outputs": [],
   "source": []
  }
 ],
 "metadata": {
  "kernelspec": {
   "display_name": "Python 3",
   "language": "python",
   "name": "python3"
  },
  "language_info": {
   "codemirror_mode": {
    "name": "ipython",
    "version": 3
   },
   "file_extension": ".py",
   "mimetype": "text/x-python",
   "name": "python",
   "nbconvert_exporter": "python",
   "pygments_lexer": "ipython3",
   "version": "3.4.3"
  }
 },
 "nbformat": 4,
 "nbformat_minor": 0
}
